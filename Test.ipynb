{
  "nbformat": 4,
  "nbformat_minor": 0,
  "metadata": {
    "colab": {
      "name": "Untitled96.ipynb",
      "provenance": [],
      "authorship_tag": "ABX9TyPSVUp95QWqZAd8DWD21Qcd",
      "include_colab_link": true
    },
    "kernelspec": {
      "name": "python3",
      "display_name": "Python 3"
    }
  },
  "cells": [
    {
      "cell_type": "markdown",
      "metadata": {
        "id": "view-in-github",
        "colab_type": "text"
      },
      "source": [
        "<a href=\"https://colab.research.google.com/github/JimKing100/Kaggle-NFL/blob/main/Test.ipynb\" target=\"_parent\"><img src=\"https://colab.research.google.com/assets/colab-badge.svg\" alt=\"Open In Colab\"/></a>"
      ]
    },
    {
      "cell_type": "code",
      "metadata": {
        "id": "Vitm8bsabqaa"
      },
      "source": [
        "import pandas as pd"
      ],
      "execution_count": 1,
      "outputs": []
    },
    {
      "cell_type": "code",
      "metadata": {
        "id": "0HrEue6Pb8t-"
      },
      "source": [
        "games_df = pd.read_csv('https://storage.googleapis.com/kagglesdsdata/competitions/22805/1583017/games.csv?GoogleAccessId=web-data@kaggle-161607.iam.gserviceaccount.com&Expires=1607967668&Signature=QOpM3rv87FjrD2qJRczz6N1iyQzq6IBXyqdJQTAVl0SK5AtilFNxaUdidBfw2yu48LBXhCsCRaVbNmEWIn3wOfR2%2BeLfuJASfHbiQb3dk2QzNlWAj3JqWhLngBQXZMHcQhUAKPouM61mVYsweiIgWp%2BS7ars%2FrfhFwi69h5Iq2mmTv%2B59cn5ezFIoCKLdCP9XSbTLucOENstp6cfmxR9jYK1NGHZYuHwKN5oYB%2BiKev0j%2Fz9p5Cuis80ANwyI04EgvrXTyAAaCOYQ0uISre05DA6Zu63BMarQIurrl0SFUi%2FFit%2Bk%2BdlgGx5ouLLsXECAe6SawHE66O8Jb6sLJLEYw%3D%3D&response-content-disposition=attachment%3B+filename%3Dgames.csv')"
      ],
      "execution_count": 21,
      "outputs": []
    },
    {
      "cell_type": "code",
      "metadata": {
        "colab": {
          "base_uri": "https://localhost:8080/",
          "height": 204
        },
        "id": "gt8oK4dgfo1i",
        "outputId": "3c1524f2-f15a-4154-a955-ca691f54b86c"
      },
      "source": [
        "games_df.head()"
      ],
      "execution_count": 22,
      "outputs": [
        {
          "output_type": "execute_result",
          "data": {
            "text/html": [
              "<div>\n",
              "<style scoped>\n",
              "    .dataframe tbody tr th:only-of-type {\n",
              "        vertical-align: middle;\n",
              "    }\n",
              "\n",
              "    .dataframe tbody tr th {\n",
              "        vertical-align: top;\n",
              "    }\n",
              "\n",
              "    .dataframe thead th {\n",
              "        text-align: right;\n",
              "    }\n",
              "</style>\n",
              "<table border=\"1\" class=\"dataframe\">\n",
              "  <thead>\n",
              "    <tr style=\"text-align: right;\">\n",
              "      <th></th>\n",
              "      <th>gameId</th>\n",
              "      <th>gameDate</th>\n",
              "      <th>gameTimeEastern</th>\n",
              "      <th>homeTeamAbbr</th>\n",
              "      <th>visitorTeamAbbr</th>\n",
              "      <th>week</th>\n",
              "    </tr>\n",
              "  </thead>\n",
              "  <tbody>\n",
              "    <tr>\n",
              "      <th>0</th>\n",
              "      <td>2018090600</td>\n",
              "      <td>09/06/2018</td>\n",
              "      <td>20:20:00</td>\n",
              "      <td>PHI</td>\n",
              "      <td>ATL</td>\n",
              "      <td>1</td>\n",
              "    </tr>\n",
              "    <tr>\n",
              "      <th>1</th>\n",
              "      <td>2018090901</td>\n",
              "      <td>09/09/2018</td>\n",
              "      <td>13:00:00</td>\n",
              "      <td>CLE</td>\n",
              "      <td>PIT</td>\n",
              "      <td>1</td>\n",
              "    </tr>\n",
              "    <tr>\n",
              "      <th>2</th>\n",
              "      <td>2018090902</td>\n",
              "      <td>09/09/2018</td>\n",
              "      <td>13:00:00</td>\n",
              "      <td>IND</td>\n",
              "      <td>CIN</td>\n",
              "      <td>1</td>\n",
              "    </tr>\n",
              "    <tr>\n",
              "      <th>3</th>\n",
              "      <td>2018090903</td>\n",
              "      <td>09/09/2018</td>\n",
              "      <td>13:00:00</td>\n",
              "      <td>MIA</td>\n",
              "      <td>TEN</td>\n",
              "      <td>1</td>\n",
              "    </tr>\n",
              "    <tr>\n",
              "      <th>4</th>\n",
              "      <td>2018090900</td>\n",
              "      <td>09/09/2018</td>\n",
              "      <td>13:00:00</td>\n",
              "      <td>BAL</td>\n",
              "      <td>BUF</td>\n",
              "      <td>1</td>\n",
              "    </tr>\n",
              "  </tbody>\n",
              "</table>\n",
              "</div>"
            ],
            "text/plain": [
              "       gameId    gameDate gameTimeEastern homeTeamAbbr visitorTeamAbbr  week\n",
              "0  2018090600  09/06/2018        20:20:00          PHI             ATL     1\n",
              "1  2018090901  09/09/2018        13:00:00          CLE             PIT     1\n",
              "2  2018090902  09/09/2018        13:00:00          IND             CIN     1\n",
              "3  2018090903  09/09/2018        13:00:00          MIA             TEN     1\n",
              "4  2018090900  09/09/2018        13:00:00          BAL             BUF     1"
            ]
          },
          "metadata": {
            "tags": []
          },
          "execution_count": 22
        }
      ]
    }
  ]
}