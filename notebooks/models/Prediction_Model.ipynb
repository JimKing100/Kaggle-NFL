{
 "cells": [
  {
   "cell_type": "code",
   "execution_count": 1,
   "metadata": {},
   "outputs": [],
   "source": [
    "# Import libraries\n",
    "import pandas as pd\n",
    "import numpy as np\n",
    "\n",
    "# Modeling libraries\n",
    "from sklearn.model_selection import train_test_split\n",
    "from sklearn.pipeline import make_pipeline\n",
    "from sklearn.linear_model import LogisticRegression\n",
    "import category_encoders as ce\n",
    "\n",
    "# Metrics and graphics libraries\n",
    "from sklearn import metrics\n",
    "import seaborn as sn\n",
    "from matplotlib import pyplot\n",
    "import matplotlib.pyplot as plt\n",
    "\n",
    "import warnings\n",
    "warnings.filterwarnings('ignore')"
   ]
  },
  {
   "cell_type": "code",
   "execution_count": 2,
   "metadata": {},
   "outputs": [],
   "source": [
    "# Load the raw data\n",
    "plays_df = pd.read_csv('/Users/JKMacBook/Documents/Lambda/Kaggle/NFL/nfl-big-data-bowl-2021/full_play_3.csv')"
   ]
  },
  {
   "cell_type": "code",
   "execution_count": 3,
   "metadata": {},
   "outputs": [
    {
     "data": {
      "text/html": [
       "<div>\n",
       "<style scoped>\n",
       "    .dataframe tbody tr th:only-of-type {\n",
       "        vertical-align: middle;\n",
       "    }\n",
       "\n",
       "    .dataframe tbody tr th {\n",
       "        vertical-align: top;\n",
       "    }\n",
       "\n",
       "    .dataframe thead th {\n",
       "        text-align: right;\n",
       "    }\n",
       "</style>\n",
       "<table border=\"1\" class=\"dataframe\">\n",
       "  <thead>\n",
       "    <tr style=\"text-align: right;\">\n",
       "      <th></th>\n",
       "      <th>quarter</th>\n",
       "      <th>down</th>\n",
       "      <th>yardsToGo</th>\n",
       "      <th>yardlineNumber</th>\n",
       "      <th>defendersInTheBox</th>\n",
       "      <th>numberOfPassRushers</th>\n",
       "      <th>preSnapVisitorScore</th>\n",
       "      <th>preSnapHomeScore</th>\n",
       "      <th>manZone</th>\n",
       "      <th>scheme</th>\n",
       "      <th>route</th>\n",
       "      <th>endDist</th>\n",
       "      <th>covDist</th>\n",
       "      <th>closeSpeed</th>\n",
       "      <th>passResult</th>\n",
       "    </tr>\n",
       "  </thead>\n",
       "  <tbody>\n",
       "    <tr>\n",
       "      <td>0</td>\n",
       "      <td>1</td>\n",
       "      <td>1</td>\n",
       "      <td>15</td>\n",
       "      <td>20</td>\n",
       "      <td>7.0</td>\n",
       "      <td>4.0</td>\n",
       "      <td>0.0</td>\n",
       "      <td>0.0</td>\n",
       "      <td>zone</td>\n",
       "      <td>cover-3</td>\n",
       "      <td>HITCH</td>\n",
       "      <td>2.957871</td>\n",
       "      <td>10.726609</td>\n",
       "      <td>4.369544</td>\n",
       "      <td>C</td>\n",
       "    </tr>\n",
       "    <tr>\n",
       "      <td>1</td>\n",
       "      <td>1</td>\n",
       "      <td>1</td>\n",
       "      <td>10</td>\n",
       "      <td>39</td>\n",
       "      <td>7.0</td>\n",
       "      <td>4.0</td>\n",
       "      <td>0.0</td>\n",
       "      <td>0.0</td>\n",
       "      <td>zone</td>\n",
       "      <td>cover-3</td>\n",
       "      <td>HITCH</td>\n",
       "      <td>1.891719</td>\n",
       "      <td>6.238350</td>\n",
       "      <td>4.909824</td>\n",
       "      <td>I</td>\n",
       "    </tr>\n",
       "    <tr>\n",
       "      <td>2</td>\n",
       "      <td>1</td>\n",
       "      <td>2</td>\n",
       "      <td>10</td>\n",
       "      <td>39</td>\n",
       "      <td>6.0</td>\n",
       "      <td>4.0</td>\n",
       "      <td>0.0</td>\n",
       "      <td>0.0</td>\n",
       "      <td>man</td>\n",
       "      <td>cover-1</td>\n",
       "      <td>NaN</td>\n",
       "      <td>NaN</td>\n",
       "      <td>NaN</td>\n",
       "      <td>NaN</td>\n",
       "      <td>I</td>\n",
       "    </tr>\n",
       "    <tr>\n",
       "      <td>3</td>\n",
       "      <td>1</td>\n",
       "      <td>3</td>\n",
       "      <td>10</td>\n",
       "      <td>39</td>\n",
       "      <td>6.0</td>\n",
       "      <td>5.0</td>\n",
       "      <td>0.0</td>\n",
       "      <td>0.0</td>\n",
       "      <td>man</td>\n",
       "      <td>cover-1</td>\n",
       "      <td>CORNER</td>\n",
       "      <td>3.898949</td>\n",
       "      <td>16.873620</td>\n",
       "      <td>5.341803</td>\n",
       "      <td>C</td>\n",
       "    </tr>\n",
       "    <tr>\n",
       "      <td>4</td>\n",
       "      <td>1</td>\n",
       "      <td>3</td>\n",
       "      <td>1</td>\n",
       "      <td>1</td>\n",
       "      <td>8.0</td>\n",
       "      <td>6.0</td>\n",
       "      <td>0.0</td>\n",
       "      <td>0.0</td>\n",
       "      <td>man</td>\n",
       "      <td>cover-0</td>\n",
       "      <td>GO</td>\n",
       "      <td>4.464135</td>\n",
       "      <td>5.517937</td>\n",
       "      <td>-3.789258</td>\n",
       "      <td>I</td>\n",
       "    </tr>\n",
       "  </tbody>\n",
       "</table>\n",
       "</div>"
      ],
      "text/plain": [
       "   quarter  down  yardsToGo  yardlineNumber  defendersInTheBox  \\\n",
       "0        1     1         15              20                7.0   \n",
       "1        1     1         10              39                7.0   \n",
       "2        1     2         10              39                6.0   \n",
       "3        1     3         10              39                6.0   \n",
       "4        1     3          1               1                8.0   \n",
       "\n",
       "   numberOfPassRushers  preSnapVisitorScore  preSnapHomeScore manZone  \\\n",
       "0                  4.0                  0.0               0.0    zone   \n",
       "1                  4.0                  0.0               0.0    zone   \n",
       "2                  4.0                  0.0               0.0     man   \n",
       "3                  5.0                  0.0               0.0     man   \n",
       "4                  6.0                  0.0               0.0     man   \n",
       "\n",
       "    scheme   route   endDist    covDist  closeSpeed passResult  \n",
       "0  cover-3   HITCH  2.957871  10.726609    4.369544          C  \n",
       "1  cover-3   HITCH  1.891719   6.238350    4.909824          I  \n",
       "2  cover-1     NaN       NaN        NaN         NaN          I  \n",
       "3  cover-1  CORNER  3.898949  16.873620    5.341803          C  \n",
       "4  cover-0      GO  4.464135   5.517937   -3.789258          I  "
      ]
     },
     "execution_count": 3,
     "metadata": {},
     "output_type": "execute_result"
    }
   ],
   "source": [
    "# Select features\n",
    "df = plays_df[['quarter', 'down', 'yardsToGo', 'yardlineNumber', 'defendersInTheBox',\n",
    "               'numberOfPassRushers', 'preSnapVisitorScore', 'preSnapHomeScore',\n",
    "               'manZone', 'scheme', 'route', 'endDist', 'covDist', 'closeSpeed', 'passResult']].copy()\n",
    "df.head()"
   ]
  },
  {
   "cell_type": "code",
   "execution_count": 4,
   "metadata": {},
   "outputs": [
    {
     "data": {
      "text/plain": [
       "(19239, 15)"
      ]
     },
     "execution_count": 4,
     "metadata": {},
     "output_type": "execute_result"
    }
   ],
   "source": [
    "# Shape of the initial data\n",
    "df.shape"
   ]
  },
  {
   "cell_type": "code",
   "execution_count": 5,
   "metadata": {},
   "outputs": [
    {
     "data": {
      "text/html": [
       "<div>\n",
       "<style scoped>\n",
       "    .dataframe tbody tr th:only-of-type {\n",
       "        vertical-align: middle;\n",
       "    }\n",
       "\n",
       "    .dataframe tbody tr th {\n",
       "        vertical-align: top;\n",
       "    }\n",
       "\n",
       "    .dataframe thead th {\n",
       "        text-align: right;\n",
       "    }\n",
       "</style>\n",
       "<table border=\"1\" class=\"dataframe\">\n",
       "  <thead>\n",
       "    <tr style=\"text-align: right;\">\n",
       "      <th></th>\n",
       "      <th>quarter</th>\n",
       "      <th>down</th>\n",
       "      <th>yardsToGo</th>\n",
       "      <th>yardlineNumber</th>\n",
       "      <th>defendersInTheBox</th>\n",
       "      <th>numberOfPassRushers</th>\n",
       "      <th>preSnapVisitorScore</th>\n",
       "      <th>preSnapHomeScore</th>\n",
       "      <th>manZone</th>\n",
       "      <th>scheme</th>\n",
       "      <th>route</th>\n",
       "      <th>endDist</th>\n",
       "      <th>covDist</th>\n",
       "      <th>closeSpeed</th>\n",
       "      <th>passResult</th>\n",
       "    </tr>\n",
       "  </thead>\n",
       "  <tbody>\n",
       "    <tr>\n",
       "      <td>0</td>\n",
       "      <td>1</td>\n",
       "      <td>1</td>\n",
       "      <td>15</td>\n",
       "      <td>20</td>\n",
       "      <td>7.0</td>\n",
       "      <td>4.0</td>\n",
       "      <td>0.0</td>\n",
       "      <td>0.0</td>\n",
       "      <td>zone</td>\n",
       "      <td>cover-3</td>\n",
       "      <td>HITCH</td>\n",
       "      <td>2.957871</td>\n",
       "      <td>10.726609</td>\n",
       "      <td>4.369544</td>\n",
       "      <td>C</td>\n",
       "    </tr>\n",
       "    <tr>\n",
       "      <td>1</td>\n",
       "      <td>1</td>\n",
       "      <td>1</td>\n",
       "      <td>10</td>\n",
       "      <td>39</td>\n",
       "      <td>7.0</td>\n",
       "      <td>4.0</td>\n",
       "      <td>0.0</td>\n",
       "      <td>0.0</td>\n",
       "      <td>zone</td>\n",
       "      <td>cover-3</td>\n",
       "      <td>HITCH</td>\n",
       "      <td>1.891719</td>\n",
       "      <td>6.238350</td>\n",
       "      <td>4.909824</td>\n",
       "      <td>I</td>\n",
       "    </tr>\n",
       "    <tr>\n",
       "      <td>3</td>\n",
       "      <td>1</td>\n",
       "      <td>3</td>\n",
       "      <td>10</td>\n",
       "      <td>39</td>\n",
       "      <td>6.0</td>\n",
       "      <td>5.0</td>\n",
       "      <td>0.0</td>\n",
       "      <td>0.0</td>\n",
       "      <td>man</td>\n",
       "      <td>cover-1</td>\n",
       "      <td>CORNER</td>\n",
       "      <td>3.898949</td>\n",
       "      <td>16.873620</td>\n",
       "      <td>5.341803</td>\n",
       "      <td>C</td>\n",
       "    </tr>\n",
       "    <tr>\n",
       "      <td>4</td>\n",
       "      <td>1</td>\n",
       "      <td>3</td>\n",
       "      <td>1</td>\n",
       "      <td>1</td>\n",
       "      <td>8.0</td>\n",
       "      <td>6.0</td>\n",
       "      <td>0.0</td>\n",
       "      <td>0.0</td>\n",
       "      <td>man</td>\n",
       "      <td>cover-0</td>\n",
       "      <td>GO</td>\n",
       "      <td>4.464135</td>\n",
       "      <td>5.517937</td>\n",
       "      <td>-3.789258</td>\n",
       "      <td>I</td>\n",
       "    </tr>\n",
       "    <tr>\n",
       "      <td>5</td>\n",
       "      <td>1</td>\n",
       "      <td>2</td>\n",
       "      <td>8</td>\n",
       "      <td>4</td>\n",
       "      <td>7.0</td>\n",
       "      <td>4.0</td>\n",
       "      <td>0.0</td>\n",
       "      <td>0.0</td>\n",
       "      <td>zone</td>\n",
       "      <td>cover-3</td>\n",
       "      <td>OUT</td>\n",
       "      <td>1.417956</td>\n",
       "      <td>5.406966</td>\n",
       "      <td>3.213817</td>\n",
       "      <td>C</td>\n",
       "    </tr>\n",
       "  </tbody>\n",
       "</table>\n",
       "</div>"
      ],
      "text/plain": [
       "   quarter  down  yardsToGo  yardlineNumber  defendersInTheBox  \\\n",
       "0        1     1         15              20                7.0   \n",
       "1        1     1         10              39                7.0   \n",
       "3        1     3         10              39                6.0   \n",
       "4        1     3          1               1                8.0   \n",
       "5        1     2          8               4                7.0   \n",
       "\n",
       "   numberOfPassRushers  preSnapVisitorScore  preSnapHomeScore manZone  \\\n",
       "0                  4.0                  0.0               0.0    zone   \n",
       "1                  4.0                  0.0               0.0    zone   \n",
       "3                  5.0                  0.0               0.0     man   \n",
       "4                  6.0                  0.0               0.0     man   \n",
       "5                  4.0                  0.0               0.0    zone   \n",
       "\n",
       "    scheme   route   endDist    covDist  closeSpeed passResult  \n",
       "0  cover-3   HITCH  2.957871  10.726609    4.369544          C  \n",
       "1  cover-3   HITCH  1.891719   6.238350    4.909824          I  \n",
       "3  cover-1  CORNER  3.898949  16.873620    5.341803          C  \n",
       "4  cover-0      GO  4.464135   5.517937   -3.789258          I  \n",
       "5  cover-3     OUT  1.417956   5.406966    3.213817          C  "
      ]
     },
     "execution_count": 5,
     "metadata": {},
     "output_type": "execute_result"
    }
   ],
   "source": [
    "# Drop all rows with Nan values\n",
    "df = df[df['route'].notna()]\n",
    "df = df[df['preSnapHomeScore'].notna()]\n",
    "df = df[df['covDist'].notna()]\n",
    "df.head()"
   ]
  },
  {
   "cell_type": "code",
   "execution_count": 6,
   "metadata": {},
   "outputs": [
    {
     "data": {
      "text/plain": [
       "(12937, 15)"
      ]
     },
     "execution_count": 6,
     "metadata": {},
     "output_type": "execute_result"
    }
   ],
   "source": [
    "# Shape after clean up\n",
    "df.shape"
   ]
  },
  {
   "cell_type": "code",
   "execution_count": 7,
   "metadata": {},
   "outputs": [
    {
     "data": {
      "text/html": [
       "<div>\n",
       "<style scoped>\n",
       "    .dataframe tbody tr th:only-of-type {\n",
       "        vertical-align: middle;\n",
       "    }\n",
       "\n",
       "    .dataframe tbody tr th {\n",
       "        vertical-align: top;\n",
       "    }\n",
       "\n",
       "    .dataframe thead th {\n",
       "        text-align: right;\n",
       "    }\n",
       "</style>\n",
       "<table border=\"1\" class=\"dataframe\">\n",
       "  <thead>\n",
       "    <tr style=\"text-align: right;\">\n",
       "      <th></th>\n",
       "      <th>quarter</th>\n",
       "      <th>down</th>\n",
       "      <th>yardsToGo</th>\n",
       "      <th>yardlineNumber</th>\n",
       "      <th>defendersInTheBox</th>\n",
       "      <th>numberOfPassRushers</th>\n",
       "      <th>preSnapVisitorScore</th>\n",
       "      <th>preSnapHomeScore</th>\n",
       "      <th>manZone</th>\n",
       "      <th>scheme</th>\n",
       "      <th>route</th>\n",
       "      <th>endDist</th>\n",
       "      <th>covDist</th>\n",
       "      <th>closeSpeed</th>\n",
       "      <th>outcome</th>\n",
       "    </tr>\n",
       "  </thead>\n",
       "  <tbody>\n",
       "    <tr>\n",
       "      <td>0</td>\n",
       "      <td>1</td>\n",
       "      <td>1</td>\n",
       "      <td>15</td>\n",
       "      <td>20</td>\n",
       "      <td>7.0</td>\n",
       "      <td>4.0</td>\n",
       "      <td>0.0</td>\n",
       "      <td>0.0</td>\n",
       "      <td>zone</td>\n",
       "      <td>cover-3</td>\n",
       "      <td>HITCH</td>\n",
       "      <td>2.957871</td>\n",
       "      <td>10.726609</td>\n",
       "      <td>4.369544</td>\n",
       "      <td>1</td>\n",
       "    </tr>\n",
       "    <tr>\n",
       "      <td>1</td>\n",
       "      <td>1</td>\n",
       "      <td>1</td>\n",
       "      <td>10</td>\n",
       "      <td>39</td>\n",
       "      <td>7.0</td>\n",
       "      <td>4.0</td>\n",
       "      <td>0.0</td>\n",
       "      <td>0.0</td>\n",
       "      <td>zone</td>\n",
       "      <td>cover-3</td>\n",
       "      <td>HITCH</td>\n",
       "      <td>1.891719</td>\n",
       "      <td>6.238350</td>\n",
       "      <td>4.909824</td>\n",
       "      <td>0</td>\n",
       "    </tr>\n",
       "    <tr>\n",
       "      <td>3</td>\n",
       "      <td>1</td>\n",
       "      <td>3</td>\n",
       "      <td>10</td>\n",
       "      <td>39</td>\n",
       "      <td>6.0</td>\n",
       "      <td>5.0</td>\n",
       "      <td>0.0</td>\n",
       "      <td>0.0</td>\n",
       "      <td>man</td>\n",
       "      <td>cover-1</td>\n",
       "      <td>CORNER</td>\n",
       "      <td>3.898949</td>\n",
       "      <td>16.873620</td>\n",
       "      <td>5.341803</td>\n",
       "      <td>1</td>\n",
       "    </tr>\n",
       "    <tr>\n",
       "      <td>4</td>\n",
       "      <td>1</td>\n",
       "      <td>3</td>\n",
       "      <td>1</td>\n",
       "      <td>1</td>\n",
       "      <td>8.0</td>\n",
       "      <td>6.0</td>\n",
       "      <td>0.0</td>\n",
       "      <td>0.0</td>\n",
       "      <td>man</td>\n",
       "      <td>cover-0</td>\n",
       "      <td>GO</td>\n",
       "      <td>4.464135</td>\n",
       "      <td>5.517937</td>\n",
       "      <td>-3.789258</td>\n",
       "      <td>0</td>\n",
       "    </tr>\n",
       "    <tr>\n",
       "      <td>5</td>\n",
       "      <td>1</td>\n",
       "      <td>2</td>\n",
       "      <td>8</td>\n",
       "      <td>4</td>\n",
       "      <td>7.0</td>\n",
       "      <td>4.0</td>\n",
       "      <td>0.0</td>\n",
       "      <td>0.0</td>\n",
       "      <td>zone</td>\n",
       "      <td>cover-3</td>\n",
       "      <td>OUT</td>\n",
       "      <td>1.417956</td>\n",
       "      <td>5.406966</td>\n",
       "      <td>3.213817</td>\n",
       "      <td>1</td>\n",
       "    </tr>\n",
       "  </tbody>\n",
       "</table>\n",
       "</div>"
      ],
      "text/plain": [
       "   quarter  down  yardsToGo  yardlineNumber  defendersInTheBox  \\\n",
       "0        1     1         15              20                7.0   \n",
       "1        1     1         10              39                7.0   \n",
       "3        1     3         10              39                6.0   \n",
       "4        1     3          1               1                8.0   \n",
       "5        1     2          8               4                7.0   \n",
       "\n",
       "   numberOfPassRushers  preSnapVisitorScore  preSnapHomeScore manZone  \\\n",
       "0                  4.0                  0.0               0.0    zone   \n",
       "1                  4.0                  0.0               0.0    zone   \n",
       "3                  5.0                  0.0               0.0     man   \n",
       "4                  6.0                  0.0               0.0     man   \n",
       "5                  4.0                  0.0               0.0    zone   \n",
       "\n",
       "    scheme   route   endDist    covDist  closeSpeed  outcome  \n",
       "0  cover-3   HITCH  2.957871  10.726609    4.369544        1  \n",
       "1  cover-3   HITCH  1.891719   6.238350    4.909824        0  \n",
       "3  cover-1  CORNER  3.898949  16.873620    5.341803        1  \n",
       "4  cover-0      GO  4.464135   5.517937   -3.789258        0  \n",
       "5  cover-3     OUT  1.417956   5.406966    3.213817        1  "
      ]
     },
     "execution_count": 7,
     "metadata": {},
     "output_type": "execute_result"
    }
   ],
   "source": [
    "# Encode target, Completions = 1, Incompletions, Interception and Sacks = 0\n",
    "df['outcome'] = np.where(df['passResult'] == 'C', 1, 0)\n",
    "df = df.drop(columns=['passResult'])\n",
    "df.head()"
   ]
  },
  {
   "cell_type": "code",
   "execution_count": 8,
   "metadata": {},
   "outputs": [],
   "source": [
    "# Split into train and test\n",
    "train, test = train_test_split(df, test_size=0.2)"
   ]
  },
  {
   "cell_type": "code",
   "execution_count": 9,
   "metadata": {},
   "outputs": [
    {
     "data": {
      "text/plain": [
       "1    2089\n",
       "0     499\n",
       "Name: outcome, dtype: int64"
      ]
     },
     "execution_count": 9,
     "metadata": {},
     "output_type": "execute_result"
    }
   ],
   "source": [
    "# Test data completions vs incompletions\n",
    "test['outcome'].value_counts()"
   ]
  },
  {
   "cell_type": "code",
   "execution_count": 10,
   "metadata": {},
   "outputs": [
    {
     "data": {
      "text/plain": [
       "array([[  26,  473],\n",
       "       [  18, 2071]])"
      ]
     },
     "execution_count": 10,
     "metadata": {},
     "output_type": "execute_result"
    }
   ],
   "source": [
    "# Encode and fit a Logistic Regression model\n",
    "target = 'outcome'\n",
    "\n",
    "features = train.columns.drop(target)\n",
    "X_train = train[features]\n",
    "y_train = train[target]\n",
    "X_test = test[features]\n",
    "y_test = test[target]\n",
    "\n",
    "# Create the pipeline\n",
    "pipeline = make_pipeline(ce.OneHotEncoder(use_cat_names=True), \n",
    "                         LogisticRegression())\n",
    "\n",
    "# Fit the model\n",
    "pipeline.fit(X_train, y_train)\n",
    "y_pred = pipeline.predict(X_test)\n",
    "\n",
    "# Print the confusion matrix\n",
    "cnf_matrix = metrics.confusion_matrix(y_test, y_pred)\n",
    "cnf_matrix"
   ]
  },
  {
   "cell_type": "code",
   "execution_count": 11,
   "metadata": {},
   "outputs": [
    {
     "name": "stdout",
     "output_type": "stream",
     "text": [
      "Accuracy: 0.8102782071097373\n",
      "Precision: 0.8140723270440252\n",
      "Recall: 0.9913834370512207\n"
     ]
    }
   ],
   "source": [
    "print(\"Accuracy:\",metrics.accuracy_score(y_test, y_pred))\n",
    "print(\"Precision:\",metrics.precision_score(y_test, y_pred))\n",
    "print(\"Recall:\",metrics.recall_score(y_test, y_pred))"
   ]
  },
  {
   "cell_type": "code",
   "execution_count": 12,
   "metadata": {},
   "outputs": [
    {
     "data": {
      "image/png": "[encoded data removed]",
      "text/plain": [
       "<Figure size 432x288 with 1 Axes>"
      ]
     },
     "metadata": {
      "needs_background": "light"
     },
     "output_type": "display_data"
    }
   ],
   "source": [
    "# Print the ROC curve\n",
    "y_pred_proba = pipeline.predict_proba(X_test)[::,1]\n",
    "fpr, tpr, _ = metrics.roc_curve(y_test,  y_pred_proba)\n",
    "auc = metrics.roc_auc_score(y_test, y_pred_proba)\n",
    "plt.plot(fpr,tpr,label=\"data 1, auc=\"+str(auc))\n",
    "plt.legend(loc=4)\n",
    "plt.show()"
   ]
  },
  {
   "cell_type": "code",
   "execution_count": 13,
   "metadata": {},
   "outputs": [
    {
     "data": {
      "text/plain": [
       "-0.09367126372202855"
      ]
     },
     "execution_count": 13,
     "metadata": {},
     "output_type": "execute_result"
    }
   ],
   "source": [
    "# Obtain the feature coefficients\n",
    "importance = pipeline.steps[1][1].coef_[0]\n",
    "importance[0]"
   ]
  },
  {
   "cell_type": "code",
   "execution_count": 14,
   "metadata": {},
   "outputs": [
    {
     "name": "stdout",
     "output_type": "stream",
     "text": [
      "quarter  Score:  -0.09367126372202855\n",
      "down  Score:  -0.08311221462250841\n",
      "yardsToGo  Score:  -0.006851070516286868\n",
      "yardlineNumber  Score:  0.0010751877614103708\n",
      "defendersInTheBox  Score:  -0.00684018902413018\n",
      "numberOfPassRushers  Score:  -0.01688335254512294\n",
      "preSnapVisitorScore  Score:  0.004512509118308346\n",
      "preSnapHomeScore  Score:  0.00563627683448386\n",
      "manZone_zone  Score:  0.20312168384948046\n",
      "manZone_man  Score:  0.23151662947798188\n",
      "manZone_None  Score:  0.13482677788415356\n",
      "scheme_cover-3  Score:  0.12913571265438173\n",
      "scheme_cover-4  Score:  0.07398597119523825\n",
      "scheme_cover-0  Score:  -0.13536509211109454\n",
      "scheme_cover-1  Score:  0.18380190488917492\n",
      "scheme_None  Score:  0.13482677788415356\n",
      "scheme_cover-2  Score:  0.18307981669989296\n",
      "route_SLANT  Score:  0.1859828418246271\n",
      "route_CROSS  Score:  0.10901279171937861\n",
      "route_OUT  Score:  0.19802171857333\n",
      "route_SCREEN  Score:  0.7533210674673795\n",
      "route_FLAT  Score:  0.005146011978967052\n",
      "route_HITCH  Score:  0.3722051493952053\n",
      "route_GO  Score:  -0.549953340941319\n",
      "route_POST  Score:  -0.25866791628225905\n",
      "route_CORNER  Score:  -0.2730840361783457\n",
      "route_undefined  Score:  -0.012671106503253048\n",
      "route_IN  Score:  0.056979235224923735\n",
      "route_ANGLE  Score:  0.03164626871608897\n",
      "route_WHEEL  Score:  -0.04847359378296556\n",
      "endDist  Score:  0.5421659145026487\n",
      "covDist  Score:  -0.1351524390436805\n",
      "closeSpeed  Score:  0.14322641435437697\n"
     ]
    },
    {
     "data": {
      "image/png": "[encoded data removed]",
      "text/plain": [
       "<Figure size 432x288 with 1 Axes>"
      ]
     },
     "metadata": {
      "needs_background": "light"
     },
     "output_type": "display_data"
    }
   ],
   "source": [
    "# Map the features to their coefficients\n",
    "feature_names = pipeline.steps[0][1].get_feature_names()\n",
    "for i in range(len(feature_names)):\n",
    "    print(feature_names[i], ' Score: ', importance[i])\n",
    "    \n",
    "# plot feature importance\n",
    "pyplot.bar([x for x in range(len(importance))], importance)\n",
    "pyplot.show()"
   ]
  },
  {
   "cell_type": "code",
   "execution_count": null,
   "metadata": {},
   "outputs": [],
   "source": []
  }
 ],
 "metadata": {
  "kernelspec": {
   "display_name": "Python 3",
   "language": "python",
   "name": "python3"
  },
  "language_info": {
   "codemirror_mode": {
    "name": "ipython",
    "version": 3
   },
   "file_extension": ".py",
   "mimetype": "text/x-python",
   "name": "python",
   "nbconvert_exporter": "python",
   "pygments_lexer": "ipython3",
   "version": "3.7.4"
  }
 },
 "nbformat": 4,
 "nbformat_minor": 2
}
