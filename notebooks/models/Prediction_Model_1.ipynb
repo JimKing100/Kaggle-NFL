{
 "cells": [
  {
   "cell_type": "code",
   "execution_count": 1,
   "metadata": {},
   "outputs": [],
   "source": [
    "# Import libraries\n",
    "import pandas as pd\n",
    "import numpy as np\n",
    "\n",
    "# Modeling libraries\n",
    "from sklearn.model_selection import train_test_split\n",
    "from sklearn.pipeline import make_pipeline\n",
    "from sklearn.linear_model import LogisticRegression\n",
    "import category_encoders as ce\n",
    "\n",
    "# Metrics and graphics libraries\n",
    "from sklearn import metrics\n",
    "import seaborn as sn\n",
    "from matplotlib import pyplot\n",
    "import matplotlib.pyplot as plt\n",
    "\n",
    "import warnings\n",
    "warnings.filterwarnings('ignore')"
   ]
  },
  {
   "cell_type": "code",
   "execution_count": 2,
   "metadata": {},
   "outputs": [],
   "source": [
    "# Load the raw data\n",
    "plays_df = pd.read_csv('/Users/JKMacBook/Documents/Lambda/Kaggle/NFL/nfl-big-data-bowl-2021/full_play_3.csv')"
   ]
  },
  {
   "cell_type": "code",
   "execution_count": 3,
   "metadata": {},
   "outputs": [
    {
     "data": {
      "text/html": [
       "<div>\n",
       "<style scoped>\n",
       "    .dataframe tbody tr th:only-of-type {\n",
       "        vertical-align: middle;\n",
       "    }\n",
       "\n",
       "    .dataframe tbody tr th {\n",
       "        vertical-align: top;\n",
       "    }\n",
       "\n",
       "    .dataframe thead th {\n",
       "        text-align: right;\n",
       "    }\n",
       "</style>\n",
       "<table border=\"1\" class=\"dataframe\">\n",
       "  <thead>\n",
       "    <tr style=\"text-align: right;\">\n",
       "      <th></th>\n",
       "      <th>quarter</th>\n",
       "      <th>down</th>\n",
       "      <th>yardsToGo</th>\n",
       "      <th>yardlineNumber</th>\n",
       "      <th>defendersInTheBox</th>\n",
       "      <th>numberOfPassRushers</th>\n",
       "      <th>manZone</th>\n",
       "      <th>scheme</th>\n",
       "      <th>route</th>\n",
       "      <th>endDist</th>\n",
       "      <th>covDist</th>\n",
       "      <th>closeSpeed</th>\n",
       "      <th>passResult</th>\n",
       "    </tr>\n",
       "  </thead>\n",
       "  <tbody>\n",
       "    <tr>\n",
       "      <td>0</td>\n",
       "      <td>1</td>\n",
       "      <td>1</td>\n",
       "      <td>15</td>\n",
       "      <td>20</td>\n",
       "      <td>7.0</td>\n",
       "      <td>4.0</td>\n",
       "      <td>zone</td>\n",
       "      <td>cover-3</td>\n",
       "      <td>HITCH</td>\n",
       "      <td>2.957871</td>\n",
       "      <td>10.726609</td>\n",
       "      <td>4.369544</td>\n",
       "      <td>C</td>\n",
       "    </tr>\n",
       "    <tr>\n",
       "      <td>1</td>\n",
       "      <td>1</td>\n",
       "      <td>1</td>\n",
       "      <td>10</td>\n",
       "      <td>39</td>\n",
       "      <td>7.0</td>\n",
       "      <td>4.0</td>\n",
       "      <td>zone</td>\n",
       "      <td>cover-3</td>\n",
       "      <td>HITCH</td>\n",
       "      <td>1.891719</td>\n",
       "      <td>6.238350</td>\n",
       "      <td>4.909824</td>\n",
       "      <td>I</td>\n",
       "    </tr>\n",
       "    <tr>\n",
       "      <td>2</td>\n",
       "      <td>1</td>\n",
       "      <td>2</td>\n",
       "      <td>10</td>\n",
       "      <td>39</td>\n",
       "      <td>6.0</td>\n",
       "      <td>4.0</td>\n",
       "      <td>man</td>\n",
       "      <td>cover-1</td>\n",
       "      <td>NaN</td>\n",
       "      <td>NaN</td>\n",
       "      <td>NaN</td>\n",
       "      <td>NaN</td>\n",
       "      <td>I</td>\n",
       "    </tr>\n",
       "    <tr>\n",
       "      <td>3</td>\n",
       "      <td>1</td>\n",
       "      <td>3</td>\n",
       "      <td>10</td>\n",
       "      <td>39</td>\n",
       "      <td>6.0</td>\n",
       "      <td>5.0</td>\n",
       "      <td>man</td>\n",
       "      <td>cover-1</td>\n",
       "      <td>CORNER</td>\n",
       "      <td>3.898949</td>\n",
       "      <td>16.873620</td>\n",
       "      <td>5.341803</td>\n",
       "      <td>C</td>\n",
       "    </tr>\n",
       "    <tr>\n",
       "      <td>4</td>\n",
       "      <td>1</td>\n",
       "      <td>3</td>\n",
       "      <td>1</td>\n",
       "      <td>1</td>\n",
       "      <td>8.0</td>\n",
       "      <td>6.0</td>\n",
       "      <td>man</td>\n",
       "      <td>cover-0</td>\n",
       "      <td>GO</td>\n",
       "      <td>4.464135</td>\n",
       "      <td>5.517937</td>\n",
       "      <td>-3.789258</td>\n",
       "      <td>I</td>\n",
       "    </tr>\n",
       "  </tbody>\n",
       "</table>\n",
       "</div>"
      ],
      "text/plain": [
       "   quarter  down  yardsToGo  yardlineNumber  defendersInTheBox  \\\n",
       "0        1     1         15              20                7.0   \n",
       "1        1     1         10              39                7.0   \n",
       "2        1     2         10              39                6.0   \n",
       "3        1     3         10              39                6.0   \n",
       "4        1     3          1               1                8.0   \n",
       "\n",
       "   numberOfPassRushers manZone   scheme   route   endDist    covDist  \\\n",
       "0                  4.0    zone  cover-3   HITCH  2.957871  10.726609   \n",
       "1                  4.0    zone  cover-3   HITCH  1.891719   6.238350   \n",
       "2                  4.0     man  cover-1     NaN       NaN        NaN   \n",
       "3                  5.0     man  cover-1  CORNER  3.898949  16.873620   \n",
       "4                  6.0     man  cover-0      GO  4.464135   5.517937   \n",
       "\n",
       "   closeSpeed passResult  \n",
       "0    4.369544          C  \n",
       "1    4.909824          I  \n",
       "2         NaN          I  \n",
       "3    5.341803          C  \n",
       "4   -3.789258          I  "
      ]
     },
     "execution_count": 3,
     "metadata": {},
     "output_type": "execute_result"
    }
   ],
   "source": [
    "# Select features\n",
    "df = plays_df[['quarter', 'down', 'yardsToGo', 'yardlineNumber', 'defendersInTheBox',\n",
    "               'numberOfPassRushers', 'manZone', 'scheme', 'route', 'endDist', 'covDist', \n",
    "               'closeSpeed', 'passResult']].copy()\n",
    "df.head()"
   ]
  },
  {
   "cell_type": "code",
   "execution_count": 4,
   "metadata": {},
   "outputs": [
    {
     "data": {
      "text/plain": [
       "quarter                   0\n",
       "down                      0\n",
       "yardsToGo                 0\n",
       "yardlineNumber            0\n",
       "defendersInTheBox        62\n",
       "numberOfPassRushers     633\n",
       "manZone                   0\n",
       "scheme                    0\n",
       "route                  6216\n",
       "endDist                6216\n",
       "covDist                6298\n",
       "closeSpeed             6298\n",
       "passResult                2\n",
       "dtype: int64"
      ]
     },
     "execution_count": 4,
     "metadata": {},
     "output_type": "execute_result"
    }
   ],
   "source": [
    "df.isnull().sum()"
   ]
  },
  {
   "cell_type": "code",
   "execution_count": 5,
   "metadata": {},
   "outputs": [
    {
     "data": {
      "text/plain": [
       "(19239, 13)"
      ]
     },
     "execution_count": 5,
     "metadata": {},
     "output_type": "execute_result"
    }
   ],
   "source": [
    "# Shape of the initial data\n",
    "df.shape"
   ]
  },
  {
   "cell_type": "code",
   "execution_count": 6,
   "metadata": {},
   "outputs": [],
   "source": [
    "values = {'defendersInTheBox': 7, 'route': 'None', 'passResult': 'I'}\n",
    "df = df.fillna(value=values)\n",
    "df = df.fillna(df.mean())"
   ]
  },
  {
   "cell_type": "code",
   "execution_count": 7,
   "metadata": {},
   "outputs": [
    {
     "data": {
      "text/plain": [
       "quarter                0\n",
       "down                   0\n",
       "yardsToGo              0\n",
       "yardlineNumber         0\n",
       "defendersInTheBox      0\n",
       "numberOfPassRushers    0\n",
       "manZone                0\n",
       "scheme                 0\n",
       "route                  0\n",
       "endDist                0\n",
       "covDist                0\n",
       "closeSpeed             0\n",
       "passResult             0\n",
       "dtype: int64"
      ]
     },
     "execution_count": 7,
     "metadata": {},
     "output_type": "execute_result"
    }
   ],
   "source": [
    "df.isnull().sum()"
   ]
  },
  {
   "cell_type": "code",
   "execution_count": 8,
   "metadata": {},
   "outputs": [
    {
     "data": {
      "text/plain": [
       "(19239, 13)"
      ]
     },
     "execution_count": 8,
     "metadata": {},
     "output_type": "execute_result"
    }
   ],
   "source": [
    "# Shape after clean up\n",
    "df.shape"
   ]
  },
  {
   "cell_type": "code",
   "execution_count": 9,
   "metadata": {},
   "outputs": [
    {
     "data": {
      "text/html": [
       "<div>\n",
       "<style scoped>\n",
       "    .dataframe tbody tr th:only-of-type {\n",
       "        vertical-align: middle;\n",
       "    }\n",
       "\n",
       "    .dataframe tbody tr th {\n",
       "        vertical-align: top;\n",
       "    }\n",
       "\n",
       "    .dataframe thead th {\n",
       "        text-align: right;\n",
       "    }\n",
       "</style>\n",
       "<table border=\"1\" class=\"dataframe\">\n",
       "  <thead>\n",
       "    <tr style=\"text-align: right;\">\n",
       "      <th></th>\n",
       "      <th>quarter</th>\n",
       "      <th>down</th>\n",
       "      <th>yardsToGo</th>\n",
       "      <th>yardlineNumber</th>\n",
       "      <th>defendersInTheBox</th>\n",
       "      <th>numberOfPassRushers</th>\n",
       "      <th>manZone</th>\n",
       "      <th>scheme</th>\n",
       "      <th>route</th>\n",
       "      <th>endDist</th>\n",
       "      <th>covDist</th>\n",
       "      <th>closeSpeed</th>\n",
       "      <th>outcome</th>\n",
       "    </tr>\n",
       "  </thead>\n",
       "  <tbody>\n",
       "    <tr>\n",
       "      <td>0</td>\n",
       "      <td>1</td>\n",
       "      <td>1</td>\n",
       "      <td>15</td>\n",
       "      <td>20</td>\n",
       "      <td>7.0</td>\n",
       "      <td>4.0</td>\n",
       "      <td>zone</td>\n",
       "      <td>cover-3</td>\n",
       "      <td>HITCH</td>\n",
       "      <td>2.957871</td>\n",
       "      <td>10.726609</td>\n",
       "      <td>4.369544</td>\n",
       "      <td>1</td>\n",
       "    </tr>\n",
       "    <tr>\n",
       "      <td>1</td>\n",
       "      <td>1</td>\n",
       "      <td>1</td>\n",
       "      <td>10</td>\n",
       "      <td>39</td>\n",
       "      <td>7.0</td>\n",
       "      <td>4.0</td>\n",
       "      <td>zone</td>\n",
       "      <td>cover-3</td>\n",
       "      <td>HITCH</td>\n",
       "      <td>1.891719</td>\n",
       "      <td>6.238350</td>\n",
       "      <td>4.909824</td>\n",
       "      <td>0</td>\n",
       "    </tr>\n",
       "    <tr>\n",
       "      <td>2</td>\n",
       "      <td>1</td>\n",
       "      <td>2</td>\n",
       "      <td>10</td>\n",
       "      <td>39</td>\n",
       "      <td>6.0</td>\n",
       "      <td>4.0</td>\n",
       "      <td>man</td>\n",
       "      <td>cover-1</td>\n",
       "      <td>None</td>\n",
       "      <td>3.731315</td>\n",
       "      <td>8.635470</td>\n",
       "      <td>1.448355</td>\n",
       "      <td>0</td>\n",
       "    </tr>\n",
       "    <tr>\n",
       "      <td>3</td>\n",
       "      <td>1</td>\n",
       "      <td>3</td>\n",
       "      <td>10</td>\n",
       "      <td>39</td>\n",
       "      <td>6.0</td>\n",
       "      <td>5.0</td>\n",
       "      <td>man</td>\n",
       "      <td>cover-1</td>\n",
       "      <td>CORNER</td>\n",
       "      <td>3.898949</td>\n",
       "      <td>16.873620</td>\n",
       "      <td>5.341803</td>\n",
       "      <td>1</td>\n",
       "    </tr>\n",
       "    <tr>\n",
       "      <td>4</td>\n",
       "      <td>1</td>\n",
       "      <td>3</td>\n",
       "      <td>1</td>\n",
       "      <td>1</td>\n",
       "      <td>8.0</td>\n",
       "      <td>6.0</td>\n",
       "      <td>man</td>\n",
       "      <td>cover-0</td>\n",
       "      <td>GO</td>\n",
       "      <td>4.464135</td>\n",
       "      <td>5.517937</td>\n",
       "      <td>-3.789258</td>\n",
       "      <td>0</td>\n",
       "    </tr>\n",
       "  </tbody>\n",
       "</table>\n",
       "</div>"
      ],
      "text/plain": [
       "   quarter  down  yardsToGo  yardlineNumber  defendersInTheBox  \\\n",
       "0        1     1         15              20                7.0   \n",
       "1        1     1         10              39                7.0   \n",
       "2        1     2         10              39                6.0   \n",
       "3        1     3         10              39                6.0   \n",
       "4        1     3          1               1                8.0   \n",
       "\n",
       "   numberOfPassRushers manZone   scheme   route   endDist    covDist  \\\n",
       "0                  4.0    zone  cover-3   HITCH  2.957871  10.726609   \n",
       "1                  4.0    zone  cover-3   HITCH  1.891719   6.238350   \n",
       "2                  4.0     man  cover-1    None  3.731315   8.635470   \n",
       "3                  5.0     man  cover-1  CORNER  3.898949  16.873620   \n",
       "4                  6.0     man  cover-0      GO  4.464135   5.517937   \n",
       "\n",
       "   closeSpeed  outcome  \n",
       "0    4.369544        1  \n",
       "1    4.909824        0  \n",
       "2    1.448355        0  \n",
       "3    5.341803        1  \n",
       "4   -3.789258        0  "
      ]
     },
     "execution_count": 9,
     "metadata": {},
     "output_type": "execute_result"
    }
   ],
   "source": [
    "# Encode target, Completions = 1, Incompletions, Interception and Sacks = 0\n",
    "df['outcome'] = np.where(df['passResult'] == 'C', 1, 0)\n",
    "df = df.drop(columns=['passResult'])\n",
    "df.head()"
   ]
  },
  {
   "cell_type": "code",
   "execution_count": 10,
   "metadata": {},
   "outputs": [],
   "source": [
    "# Split into train and test\n",
    "train, test = train_test_split(df, test_size=0.2)"
   ]
  },
  {
   "cell_type": "code",
   "execution_count": 11,
   "metadata": {},
   "outputs": [
    {
     "data": {
      "text/plain": [
       "1    2316\n",
       "0    1532\n",
       "Name: outcome, dtype: int64"
      ]
     },
     "execution_count": 11,
     "metadata": {},
     "output_type": "execute_result"
    }
   ],
   "source": [
    "# Test data completions vs incompletions\n",
    "test['outcome'].value_counts()"
   ]
  },
  {
   "cell_type": "code",
   "execution_count": 12,
   "metadata": {},
   "outputs": [
    {
     "data": {
      "text/plain": [
       "array([[1060,  472],\n",
       "       [ 219, 2097]])"
      ]
     },
     "execution_count": 12,
     "metadata": {},
     "output_type": "execute_result"
    }
   ],
   "source": [
    "# Encode and fit a Logistic Regression model\n",
    "target = 'outcome'\n",
    "\n",
    "features = train.columns.drop(target)\n",
    "X_train = train[features]\n",
    "y_train = train[target]\n",
    "X_test = test[features]\n",
    "y_test = test[target]\n",
    "\n",
    "# Create the pipeline\n",
    "pipeline = make_pipeline(ce.OneHotEncoder(use_cat_names=True), \n",
    "                         LogisticRegression())\n",
    "\n",
    "# Fit the model\n",
    "pipeline.fit(X_train, y_train)\n",
    "y_pred = pipeline.predict(X_test)\n",
    "\n",
    "# Print the confusion matrix\n",
    "cnf_matrix = metrics.confusion_matrix(y_test, y_pred)\n",
    "cnf_matrix"
   ]
  },
  {
   "cell_type": "code",
   "execution_count": 13,
   "metadata": {},
   "outputs": [
    {
     "name": "stdout",
     "output_type": "stream",
     "text": [
      "Accuracy: 0.8204261954261954\n",
      "Precision: 0.8162709225379525\n",
      "Recall: 0.905440414507772\n"
     ]
    }
   ],
   "source": [
    "print(\"Accuracy:\",metrics.accuracy_score(y_test, y_pred))\n",
    "print(\"Precision:\",metrics.precision_score(y_test, y_pred))\n",
    "print(\"Recall:\",metrics.recall_score(y_test, y_pred))"
   ]
  },
  {
   "cell_type": "code",
   "execution_count": 14,
   "metadata": {},
   "outputs": [
    {
     "data": {
      "image/png": "[encoded data removed]",
      "text/plain": [
       "<Figure size 432x288 with 1 Axes>"
      ]
     },
     "metadata": {
      "needs_background": "light"
     },
     "output_type": "display_data"
    }
   ],
   "source": [
    "# Print the ROC curve\n",
    "y_pred_proba = pipeline.predict_proba(X_test)[::,1]\n",
    "fpr, tpr, _ = metrics.roc_curve(y_test,  y_pred_proba)\n",
    "auc = metrics.roc_auc_score(y_test, y_pred_proba)\n",
    "plt.plot(fpr,tpr,label=\"data 1, auc=\"+str(auc))\n",
    "plt.legend(loc=4)\n",
    "plt.show()"
   ]
  },
  {
   "cell_type": "code",
   "execution_count": 15,
   "metadata": {},
   "outputs": [
    {
     "data": {
      "text/plain": [
       "-0.020407974538429532"
      ]
     },
     "execution_count": 15,
     "metadata": {},
     "output_type": "execute_result"
    }
   ],
   "source": [
    "# Obtain the feature coefficients\n",
    "importance = pipeline.steps[1][1].coef_[0]\n",
    "importance[0]"
   ]
  },
  {
   "cell_type": "code",
   "execution_count": 16,
   "metadata": {},
   "outputs": [
    {
     "name": "stdout",
     "output_type": "stream",
     "text": [
      "quarter  Score:  -0.020407974538429532\n",
      "down  Score:  -0.09595930651635369\n",
      "yardsToGo  Score:  -0.004892139210581285\n",
      "yardlineNumber  Score:  0.0011433899020951493\n",
      "defendersInTheBox  Score:  0.005825521930292497\n",
      "numberOfPassRushers  Score:  -0.08863581116465494\n",
      "manZone_man  Score:  0.23405850227840222\n",
      "manZone_zone  Score:  0.1882370663987994\n",
      "manZone_None  Score:  0.1506547020018582\n",
      "scheme_cover-1  Score:  0.07699595312343459\n",
      "scheme_cover-3  Score:  0.07355618485373715\n",
      "scheme_cover-0  Score:  -0.12714130202555035\n",
      "scheme_cover-4  Score:  0.11468088154481308\n",
      "scheme_None  Score:  0.1506547020018582\n",
      "scheme_cover-2  Score:  0.28420385118058966\n",
      "route_FLAT  Score:  0.3505966006668746\n",
      "route_CROSS  Score:  0.3213887186507643\n",
      "route_HITCH  Score:  0.5615590010971391\n",
      "route_None  Score:  -3.021875633645146\n",
      "route_POST  Score:  -0.11194525813449455\n",
      "route_GO  Score:  -0.3237497296073679\n",
      "route_SLANT  Score:  0.45262352902087677\n",
      "route_ANGLE  Score:  0.276799032592262\n",
      "route_CORNER  Score:  -0.03274929862105397\n",
      "route_IN  Score:  0.27539812157507\n",
      "route_OUT  Score:  0.44895647002113387\n",
      "route_SCREEN  Score:  1.0220733824188295\n",
      "route_WHEEL  Score:  0.38017384418566563\n",
      "route_undefined  Score:  -0.02629850954137012\n",
      "endDist  Score:  0.4992717701234627\n",
      "covDist  Score:  -0.12213657885350022\n",
      "closeSpeed  Score:  0.12437268760005624\n"
     ]
    },
    {
     "data": {
      "image/png": "[encoded data removed]",
      "text/plain": [
       "<Figure size 432x288 with 1 Axes>"
      ]
     },
     "metadata": {
      "needs_background": "light"
     },
     "output_type": "display_data"
    }
   ],
   "source": [
    "# Map the features to their coefficients\n",
    "feature_names = pipeline.steps[0][1].get_feature_names()\n",
    "for i in range(len(feature_names)):\n",
    "    print(feature_names[i], ' Score: ', importance[i])\n",
    "    \n",
    "# plot feature importance\n",
    "pyplot.bar([x for x in range(len(importance))], importance)\n",
    "pyplot.show()"
   ]
  },
  {
   "cell_type": "code",
   "execution_count": null,
   "metadata": {},
   "outputs": [],
   "source": []
  }
 ],
 "metadata": {
  "kernelspec": {
   "display_name": "Python 3",
   "language": "python",
   "name": "python3"
  },
  "language_info": {
   "codemirror_mode": {
    "name": "ipython",
    "version": 3
   },
   "file_extension": ".py",
   "mimetype": "text/x-python",
   "name": "python",
   "nbconvert_exporter": "python",
   "pygments_lexer": "ipython3",
   "version": "3.7.4"
  }
 },
 "nbformat": 4,
 "nbformat_minor": 2
}
